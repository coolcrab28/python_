{
  "nbformat": 4,
  "nbformat_minor": 0,
  "metadata": {
    "colab": {
      "name": "test.ipynb",
      "provenance": [],
      "collapsed_sections": [],
      "authorship_tag": "ABX9TyPFN8RLLNmdSYb4OvMuhFBE",
      "include_colab_link": true
    },
    "kernelspec": {
      "name": "python3",
      "display_name": "Python 3"
    },
    "language_info": {
      "name": "python"
    }
  },
  "cells": [
    {
      "cell_type": "markdown",
      "metadata": {
        "id": "view-in-github",
        "colab_type": "text"
      },
      "source": [
        "<a href=\"https://colab.research.google.com/github/coolcrab28/python_/blob/main/test.ipynb\" target=\"_parent\"><img src=\"https://colab.research.google.com/assets/colab-badge.svg\" alt=\"Open In Colab\"/></a>"
      ]
    },
    {
      "cell_type": "code",
      "execution_count": 40,
      "metadata": {
        "id": "eIboRtkqI-2e"
      },
      "outputs": [],
      "source": [
        "class binTree():\n",
        "    def __init__(self,apex):\n",
        "        self.apex = apex\n",
        "    "
      ]
    },
    {
      "cell_type": "code",
      "source": [
        "tree = binTree(5)"
      ],
      "metadata": {
        "id": "A6vT9hiyZatZ"
      },
      "execution_count": 41,
      "outputs": []
    },
    {
      "cell_type": "code",
      "source": [
        "print(tree)"
      ],
      "metadata": {
        "colab": {
          "base_uri": "https://localhost:8080/"
        },
        "id": "vHCj23HWZmuc",
        "outputId": "bdd955a8-a3e1-407e-d718-d0ad60847ac2"
      },
      "execution_count": 42,
      "outputs": [
        {
          "output_type": "stream",
          "name": "stdout",
          "text": [
            "<__main__.binTree object at 0x7f1b86caff90>\n"
          ]
        }
      ]
    }
  ]
}